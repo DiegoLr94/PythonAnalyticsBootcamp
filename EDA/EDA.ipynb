{
 "cells": [
  {
   "cell_type": "code",
   "execution_count": 89,
   "id": "0647ee5d-0afd-47c1-8076-5c4dc3dcb832",
   "metadata": {},
   "outputs": [],
   "source": [
    "import datetime # Tipo de dato para fechas y horas\n",
    "import pandas as pd # Manejo de datos tabulados\n"
   ]
  },
  {
   "cell_type": "code",
   "execution_count": 90,
   "id": "bd5492b7-5fbd-498f-925b-3bfc7b8d578f",
   "metadata": {},
   "outputs": [],
   "source": [
    "import numpy as np # Algebra Lineal y operaciones matematicas\n",
    "import matplotlib.pyplot as plt # Graficos de datos\n"
   ]
  },
  {
   "cell_type": "code",
   "execution_count": 91,
   "id": "744169ea-65cb-4a73-b5e7-21ceadb6a598",
   "metadata": {},
   "outputs": [],
   "source": [
    "import seaborn as sns # Graficos estadisticos\n",
    "import pandas_profiling as ppr # brinda una super descripción de la data mejor que el pd.describe()\n"
   ]
  },
  {
   "cell_type": "code",
   "execution_count": 92,
   "id": "46dea3d5-5c62-4974-b930-d10df4811961",
   "metadata": {},
   "outputs": [],
   "source": [
    "import geopandas as gpd # Pandas para datos geograficos (Mapas!!)\n",
    "#from fitter import Fitter # Ajuste de distribuciones de probs"
   ]
  },
  {
   "cell_type": "code",
   "execution_count": 93,
   "id": "76def990-ae77-46bc-80f3-ca7ec00b3956",
   "metadata": {},
   "outputs": [],
   "source": [
    "%matplotlib inline"
   ]
  },
  {
   "cell_type": "code",
   "execution_count": 94,
   "id": "87df0ca4-5200-43ed-b861-d2641ecbbd2b",
   "metadata": {},
   "outputs": [],
   "source": [
    "df_accidentes=pd.read_csv('Accidentes_transito_peru.csv',encoding='latin-1',sep=\";\")\n",
    "#solución de error de lectura de csv usando encoding de stackoverflow:https://es.stackoverflow.com/questions/382281/obtengo-el-error-unicodedecodeerror-utf-8-codec-cant-decode-byte-0xf3-in-po\n",
    "#el sep=\";\" me ayuda porque antes no lograba separar columnas y ahora sí se puede."
   ]
  },
  {
   "cell_type": "code",
   "execution_count": 95,
   "id": "9d7631e9-8f0e-4a13-86d5-326468085146",
   "metadata": {},
   "outputs": [
    {
     "data": {
      "text/html": [
       "<div>\n",
       "<style scoped>\n",
       "    .dataframe tbody tr th:only-of-type {\n",
       "        vertical-align: middle;\n",
       "    }\n",
       "\n",
       "    .dataframe tbody tr th {\n",
       "        vertical-align: top;\n",
       "    }\n",
       "\n",
       "    .dataframe thead th {\n",
       "        text-align: right;\n",
       "    }\n",
       "</style>\n",
       "<table border=\"1\" class=\"dataframe\">\n",
       "  <thead>\n",
       "    <tr style=\"text-align: right;\">\n",
       "      <th></th>\n",
       "      <th>FECHA_CORTE</th>\n",
       "      <th>FECHA</th>\n",
       "      <th>HORA</th>\n",
       "      <th>DEPARTAMENTO</th>\n",
       "      <th>CODIGO_VÍA</th>\n",
       "      <th>KILOMETRO</th>\n",
       "      <th>MODALIDAD</th>\n",
       "      <th>FALLECIDOS</th>\n",
       "      <th>HERIDOS</th>\n",
       "    </tr>\n",
       "  </thead>\n",
       "  <tbody>\n",
       "    <tr>\n",
       "      <th>0</th>\n",
       "      <td>20211222</td>\n",
       "      <td>20200101</td>\n",
       "      <td>05:40</td>\n",
       "      <td>LIMA</td>\n",
       "      <td>PE-1S</td>\n",
       "      <td>24</td>\n",
       "      <td>DESPISTE</td>\n",
       "      <td>0</td>\n",
       "      <td>0</td>\n",
       "    </tr>\n",
       "    <tr>\n",
       "      <th>1</th>\n",
       "      <td>20211222</td>\n",
       "      <td>20200101</td>\n",
       "      <td>16:30</td>\n",
       "      <td>CAJAMARCA</td>\n",
       "      <td>PE-3N</td>\n",
       "      <td>74</td>\n",
       "      <td>DESPISTE</td>\n",
       "      <td>0</td>\n",
       "      <td>0</td>\n",
       "    </tr>\n",
       "    <tr>\n",
       "      <th>2</th>\n",
       "      <td>20211222</td>\n",
       "      <td>20200101</td>\n",
       "      <td>07:45</td>\n",
       "      <td>PASCO</td>\n",
       "      <td>PE-3N</td>\n",
       "      <td>103</td>\n",
       "      <td>DESPISTE</td>\n",
       "      <td>0</td>\n",
       "      <td>1</td>\n",
       "    </tr>\n",
       "    <tr>\n",
       "      <th>3</th>\n",
       "      <td>20211222</td>\n",
       "      <td>20200101</td>\n",
       "      <td>18:30</td>\n",
       "      <td>CAJAMARCA</td>\n",
       "      <td>PE-08</td>\n",
       "      <td>111</td>\n",
       "      <td>DESPISTE</td>\n",
       "      <td>0</td>\n",
       "      <td>2</td>\n",
       "    </tr>\n",
       "    <tr>\n",
       "      <th>4</th>\n",
       "      <td>20211222</td>\n",
       "      <td>20200101</td>\n",
       "      <td>18:40</td>\n",
       "      <td>LIMA</td>\n",
       "      <td>PE-1N</td>\n",
       "      <td>174</td>\n",
       "      <td>DESPISTE</td>\n",
       "      <td>0</td>\n",
       "      <td>5</td>\n",
       "    </tr>\n",
       "  </tbody>\n",
       "</table>\n",
       "</div>"
      ],
      "text/plain": [
       "   FECHA_CORTE     FECHA   HORA DEPARTAMENTO CODIGO_VÍA KILOMETRO MODALIDAD  \\\n",
       "0     20211222  20200101  05:40         LIMA      PE-1S        24  DESPISTE   \n",
       "1     20211222  20200101  16:30    CAJAMARCA      PE-3N        74  DESPISTE   \n",
       "2     20211222  20200101  07:45        PASCO      PE-3N       103  DESPISTE   \n",
       "3     20211222  20200101  18:30    CAJAMARCA      PE-08       111  DESPISTE   \n",
       "4     20211222  20200101  18:40         LIMA      PE-1N       174  DESPISTE   \n",
       "\n",
       "  FALLECIDOS HERIDOS  \n",
       "0          0       0  \n",
       "1          0       0  \n",
       "2          0       1  \n",
       "3          0       2  \n",
       "4          0       5  "
      ]
     },
     "execution_count": 95,
     "metadata": {},
     "output_type": "execute_result"
    }
   ],
   "source": [
    "df_accidentes.head()"
   ]
  },
  {
   "cell_type": "code",
   "execution_count": 96,
   "id": "3ee9eae5-707a-4a2b-8961-2dba12f38be2",
   "metadata": {},
   "outputs": [
    {
     "data": {
      "text/plain": [
       "(8155, 9)"
      ]
     },
     "execution_count": 96,
     "metadata": {},
     "output_type": "execute_result"
    }
   ],
   "source": [
    "df_accidentes.shape"
   ]
  },
  {
   "cell_type": "code",
   "execution_count": 97,
   "id": "91c48b63-5205-4965-ac50-17bd07337c16",
   "metadata": {},
   "outputs": [
    {
     "data": {
      "text/plain": [
       "<bound method NDFrame.describe of 0       20200101\n",
       "1       20200101\n",
       "2       20200101\n",
       "3       20200101\n",
       "4       20200101\n",
       "          ...   \n",
       "8150    20210930\n",
       "8151    20210930\n",
       "8152    20210930\n",
       "8153    20210930\n",
       "8154    20210930\n",
       "Name: FECHA, Length: 8155, dtype: int64>"
      ]
     },
     "execution_count": 97,
     "metadata": {},
     "output_type": "execute_result"
    }
   ],
   "source": [
    "df_accidentes['FECHA'].describe"
   ]
  },
  {
   "cell_type": "code",
   "execution_count": 98,
   "id": "72aa47b3-009a-4be8-8b29-3b4d9d9cfeed",
   "metadata": {},
   "outputs": [
    {
     "data": {
      "text/plain": [
       "DESPISTE     3829\n",
       "CHOQUE       3623\n",
       "ATROPELLO     361\n",
       "ESPECIAL      186\n",
       "VOLCADURA     128\n",
       "N.I.           28\n",
       "Name: MODALIDAD, dtype: int64"
      ]
     },
     "execution_count": 98,
     "metadata": {},
     "output_type": "execute_result"
    }
   ],
   "source": [
    "df_accidentes['MODALIDAD'].value_counts()"
   ]
  },
  {
   "cell_type": "code",
   "execution_count": 99,
   "id": "205e8b73-c374-4de5-952a-7bc738217f03",
   "metadata": {},
   "outputs": [
    {
     "data": {
      "text/html": [
       "<div>\n",
       "<style scoped>\n",
       "    .dataframe tbody tr th:only-of-type {\n",
       "        vertical-align: middle;\n",
       "    }\n",
       "\n",
       "    .dataframe tbody tr th {\n",
       "        vertical-align: top;\n",
       "    }\n",
       "\n",
       "    .dataframe thead th {\n",
       "        text-align: right;\n",
       "    }\n",
       "</style>\n",
       "<table border=\"1\" class=\"dataframe\">\n",
       "  <thead>\n",
       "    <tr style=\"text-align: right;\">\n",
       "      <th></th>\n",
       "      <th>FECHA_CORTE</th>\n",
       "      <th>FECHA</th>\n",
       "    </tr>\n",
       "  </thead>\n",
       "  <tbody>\n",
       "    <tr>\n",
       "      <th>count</th>\n",
       "      <td>8155.0</td>\n",
       "      <td>8.155000e+03</td>\n",
       "    </tr>\n",
       "    <tr>\n",
       "      <th>mean</th>\n",
       "      <td>20211222.0</td>\n",
       "      <td>2.020569e+07</td>\n",
       "    </tr>\n",
       "    <tr>\n",
       "      <th>std</th>\n",
       "      <td>0.0</td>\n",
       "      <td>4.936680e+03</td>\n",
       "    </tr>\n",
       "    <tr>\n",
       "      <th>min</th>\n",
       "      <td>20211222.0</td>\n",
       "      <td>2.020010e+07</td>\n",
       "    </tr>\n",
       "    <tr>\n",
       "      <th>25%</th>\n",
       "      <td>20211222.0</td>\n",
       "      <td>2.020073e+07</td>\n",
       "    </tr>\n",
       "    <tr>\n",
       "      <th>50%</th>\n",
       "      <td>20211222.0</td>\n",
       "      <td>2.021010e+07</td>\n",
       "    </tr>\n",
       "    <tr>\n",
       "      <th>75%</th>\n",
       "      <td>20211222.0</td>\n",
       "      <td>2.021053e+07</td>\n",
       "    </tr>\n",
       "    <tr>\n",
       "      <th>max</th>\n",
       "      <td>20211222.0</td>\n",
       "      <td>2.021093e+07</td>\n",
       "    </tr>\n",
       "  </tbody>\n",
       "</table>\n",
       "</div>"
      ],
      "text/plain": [
       "       FECHA_CORTE         FECHA\n",
       "count       8155.0  8.155000e+03\n",
       "mean    20211222.0  2.020569e+07\n",
       "std            0.0  4.936680e+03\n",
       "min     20211222.0  2.020010e+07\n",
       "25%     20211222.0  2.020073e+07\n",
       "50%     20211222.0  2.021010e+07\n",
       "75%     20211222.0  2.021053e+07\n",
       "max     20211222.0  2.021093e+07"
      ]
     },
     "execution_count": 99,
     "metadata": {},
     "output_type": "execute_result"
    }
   ],
   "source": [
    "df_accidentes.describe()"
   ]
  },
  {
   "cell_type": "code",
   "execution_count": 100,
   "id": "b2b33ae2-834a-4294-b7af-60bd009c2ec9",
   "metadata": {},
   "outputs": [
    {
     "data": {
      "text/plain": [
       "LIMA             1558\n",
       "AREQUIPA          795\n",
       "JUNIN             715\n",
       "ANCASH            602\n",
       "PUNO              529\n",
       "ICA               377\n",
       "CAJAMARCA         350\n",
       "CUSCO             346\n",
       "LAMBAYEQUE        343\n",
       "LA LIBERTAD       329\n",
       "PIURA             327\n",
       "SAN MARTIN        274\n",
       "APURIMAC          202\n",
       "MADRE DE DIOS     191\n",
       "HUANUCO           174\n",
       "AYACUCHO          168\n",
       "MOQUEGUA          155\n",
       "UCAYALI           154\n",
       "AMAZONAS          152\n",
       "TACNA             151\n",
       "LORETO             82\n",
       "PASCO              77\n",
       "HUANCAVELICA       62\n",
       "TUMBES             25\n",
       "N.I.                7\n",
       "CALLAO              6\n",
       "Arequipa            2\n",
       "Puno                1\n",
       "Cusco               1\n",
       "Name: DEPARTAMENTO, dtype: int64"
      ]
     },
     "execution_count": 100,
     "metadata": {},
     "output_type": "execute_result"
    }
   ],
   "source": [
    "df_accidentes['DEPARTAMENTO'].value_counts()"
   ]
  },
  {
   "cell_type": "code",
   "execution_count": 101,
   "id": "1e201496-76b4-4186-bffc-2c4555e6320a",
   "metadata": {},
   "outputs": [
    {
     "data": {
      "text/plain": [
       "DESPISTE     3829\n",
       "CHOQUE       3623\n",
       "ATROPELLO     361\n",
       "ESPECIAL      186\n",
       "VOLCADURA     128\n",
       "N.I.           28\n",
       "Name: MODALIDAD, dtype: int64"
      ]
     },
     "execution_count": 101,
     "metadata": {},
     "output_type": "execute_result"
    }
   ],
   "source": [
    "df_accidentes['MODALIDAD'].value_counts()"
   ]
  },
  {
   "cell_type": "code",
   "execution_count": 102,
   "id": "658296ff-b501-4288-bbbf-0c09563ef7d5",
   "metadata": {},
   "outputs": [
    {
     "data": {
      "text/plain": [
       "PE-1N     1494\n",
       "PE-1S     1410\n",
       "PE-3S      652\n",
       "PE-22      538\n",
       "PE-3N      477\n",
       "          ... \n",
       "CU-134       1\n",
       "SM-114       1\n",
       "PE-109       1\n",
       "MO-107       1\n",
       "PE-3SC       1\n",
       "Name: CODIGO_VÍA, Length: 175, dtype: int64"
      ]
     },
     "execution_count": 102,
     "metadata": {},
     "output_type": "execute_result"
    }
   ],
   "source": [
    "df_accidentes['CODIGO_VÍA'].value_counts()"
   ]
  },
  {
   "cell_type": "code",
   "execution_count": 103,
   "id": "36626047-6a9e-48a6-b737-65400e1f8eae",
   "metadata": {},
   "outputs": [
    {
     "data": {
      "text/plain": [
       "(Index([], dtype='object'),\n",
       " Index(['HORA', 'DEPARTAMENTO', 'CODIGO_VÍA', 'KILOMETRO', 'MODALIDAD',\n",
       "        'FALLECIDOS', 'HERIDOS'],\n",
       "       dtype='object'),\n",
       " Index([], dtype='object'))"
      ]
     },
     "execution_count": 103,
     "metadata": {},
     "output_type": "execute_result"
    }
   ],
   "source": [
    "numeric_columns = df_accidentes.select_dtypes(include=[float]).columns\n",
    "text_columns = df_accidentes.select_dtypes(include=[object]).columns\n",
    "date_columns = df_accidentes.select_dtypes(include=['datetime64']).columns\n",
    "\n",
    "numeric_columns, text_columns, date_columns"
   ]
  },
  {
   "cell_type": "code",
   "execution_count": 104,
   "id": "388e7b29-d360-438b-84f9-547f0d1e30d8",
   "metadata": {},
   "outputs": [],
   "source": [
    "# Como hay valores tipo texto en las columnas 'FALLECIDOS' y 'HERIDOS' (en la forma de 'n.i'),\n",
    "# debo reemplazar o quitar esas filas. En este caso, se reemplazara por cero para poder practicar las funciones\n",
    "# de filtro que encontre aca: https://pandas.pydata.org/docs/reference/api/pandas.DataFrame.replace.html\n",
    "# Antes me salia esto:    > ValueError: could not convert string to float: 'N.I.'"
   ]
  },
  {
   "cell_type": "code",
   "execution_count": 105,
   "id": "43c13603-9bc6-4af6-aade-a14c19cd6d3e",
   "metadata": {},
   "outputs": [
    {
     "data": {
      "text/plain": [
       "0       7199\n",
       "1        777\n",
       "2        111\n",
       "3         30\n",
       "4         12\n",
       "5          7\n",
       "6          4\n",
       "N.I.       3\n",
       "11         3\n",
       "16         2\n",
       "7          2\n",
       "9          1\n",
       "20         1\n",
       "18         1\n",
       "22         1\n",
       "33         1\n",
       "Name: FALLECIDOS, dtype: int64"
      ]
     },
     "execution_count": 105,
     "metadata": {},
     "output_type": "execute_result"
    }
   ],
   "source": [
    "df_accidentes['FALLECIDOS'].value_counts()"
   ]
  },
  {
   "cell_type": "code",
   "execution_count": 106,
   "id": "3a75de4e-b917-4e92-8c68-87cc24232da0",
   "metadata": {},
   "outputs": [
    {
     "data": {
      "text/plain": [
       "0       False\n",
       "1       False\n",
       "2       False\n",
       "3       False\n",
       "4       False\n",
       "        ...  \n",
       "8150    False\n",
       "8151    False\n",
       "8152    False\n",
       "8153    False\n",
       "8154    False\n",
       "Name: FALLECIDOS, Length: 8155, dtype: bool"
      ]
     },
     "execution_count": 106,
     "metadata": {},
     "output_type": "execute_result"
    }
   ],
   "source": [
    "#Verificar qué filas tienen valores \"N.I.\"\n",
    "df_accidentes['FALLECIDOS']=='N.I'\n"
   ]
  },
  {
   "cell_type": "code",
   "execution_count": 107,
   "id": "6e9cbd11-a5ae-4615-9dc2-e940606d24e6",
   "metadata": {},
   "outputs": [
    {
     "data": {
      "text/plain": [
       "3"
      ]
     },
     "execution_count": 107,
     "metadata": {},
     "output_type": "execute_result"
    }
   ],
   "source": [
    "#conteo de valores \"N.I.\" en fallecidos\n",
    "ni_fallecidos=df_accidentes['FALLECIDOS']=='N.I.'\n",
    "ni_fallecidos.sum(axis=0)"
   ]
  },
  {
   "cell_type": "code",
   "execution_count": 108,
   "id": "068daf6a-3101-4659-80a1-0d90d5519e2b",
   "metadata": {},
   "outputs": [
    {
     "data": {
      "text/plain": [
       "0     0\n",
       "1     0\n",
       "2     0\n",
       "3     0\n",
       "4     0\n",
       "5     0\n",
       "6     1\n",
       "7     0\n",
       "8     0\n",
       "9     0\n",
       "10    0\n",
       "11    0\n",
       "12    0\n",
       "13    0\n",
       "14    1\n",
       "15    0\n",
       "16    2\n",
       "17    2\n",
       "18    0\n",
       "19    0\n",
       "Name: FALLECIDOS, dtype: object"
      ]
     },
     "execution_count": 108,
     "metadata": {},
     "output_type": "execute_result"
    }
   ],
   "source": [
    "#Reemplazar los valores \"n.i\" por \"0\" en fallecidos\n",
    "df_accidentes['FALLECIDOS']=df_accidentes['FALLECIDOS'].replace('N.I.',0)\n",
    "df_accidentes['FALLECIDOS'].head(20)"
   ]
  },
  {
   "cell_type": "code",
   "execution_count": 109,
   "id": "f637c2e0-5b9c-4b53-b529-40e11dd15a4a",
   "metadata": {},
   "outputs": [
    {
     "data": {
      "text/plain": [
       "0"
      ]
     },
     "execution_count": 109,
     "metadata": {},
     "output_type": "execute_result"
    }
   ],
   "source": [
    "#RE-conteo de valores \"N.I.\" en fallecidos para ver si cambió algo o no\n",
    "ni_fallecidos=df_accidentes['FALLECIDOS']=='N.I.'\n",
    "ni_fallecidos.sum(axis=0)"
   ]
  },
  {
   "cell_type": "code",
   "execution_count": 110,
   "id": "55f1204a-e0f8-4baf-b1aa-76ce577c725a",
   "metadata": {},
   "outputs": [
    {
     "data": {
      "text/plain": [
       "10"
      ]
     },
     "execution_count": 110,
     "metadata": {},
     "output_type": "execute_result"
    }
   ],
   "source": [
    "#conteo de valores \"N.I.\" en heridos\n",
    "ni_fallecidos=df_accidentes['HERIDOS']=='N.I.'\n",
    "ni_fallecidos.sum(axis=0)"
   ]
  },
  {
   "cell_type": "code",
   "execution_count": 111,
   "id": "bebaa700-03b3-4b56-885b-feb7bc30c349",
   "metadata": {},
   "outputs": [
    {
     "data": {
      "text/plain": [
       "0      0\n",
       "1      0\n",
       "2      1\n",
       "3      2\n",
       "4      5\n",
       "5      1\n",
       "6      1\n",
       "7      1\n",
       "8      6\n",
       "9      2\n",
       "10     0\n",
       "11     5\n",
       "12     2\n",
       "13     0\n",
       "14     0\n",
       "15     0\n",
       "16    16\n",
       "17     1\n",
       "18     0\n",
       "19     3\n",
       "Name: HERIDOS, dtype: object"
      ]
     },
     "execution_count": 111,
     "metadata": {},
     "output_type": "execute_result"
    }
   ],
   "source": [
    "#Reemplazar los valores \"n.i\" por \"0\" en HERIDOS\n",
    "df_accidentes['HERIDOS']=df_accidentes['HERIDOS'].replace('N.I.',0)\n",
    "df_accidentes['HERIDOS'].head(20)"
   ]
  },
  {
   "cell_type": "code",
   "execution_count": 112,
   "id": "2ee0e161-1ab7-4434-8444-53ce8b5b8498",
   "metadata": {},
   "outputs": [
    {
     "data": {
      "text/plain": [
       "0"
      ]
     },
     "execution_count": 112,
     "metadata": {},
     "output_type": "execute_result"
    }
   ],
   "source": [
    "#RE-conteo de valores \"N.I.\" en HERIDOS para ver si cambio algo o no\n",
    "ni_fallecidos=df_accidentes['HERIDOS']=='N.I.'\n",
    "ni_fallecidos.sum(axis=0)"
   ]
  },
  {
   "cell_type": "code",
   "execution_count": 113,
   "id": "b1bbb7ab-b68d-44b7-9c24-1d82e7870843",
   "metadata": {},
   "outputs": [],
   "source": [
    "df_accidentes[['FALLECIDOS','HERIDOS']]=df_accidentes[['FALLECIDOS','HERIDOS']].astype(int)"
   ]
  },
  {
   "cell_type": "code",
   "execution_count": 114,
   "id": "06d800b5-4fd7-41f2-8056-db89cdc56f13",
   "metadata": {},
   "outputs": [
    {
     "data": {
      "text/plain": [
       "(Index(['FECHA_CORTE', 'FECHA', 'FALLECIDOS', 'HERIDOS'], dtype='object'),\n",
       " Index(['HORA', 'DEPARTAMENTO', 'CODIGO_VÍA', 'KILOMETRO', 'MODALIDAD'], dtype='object'),\n",
       " Index([], dtype='object'),\n",
       " Index([], dtype='object'))"
      ]
     },
     "execution_count": 114,
     "metadata": {},
     "output_type": "execute_result"
    }
   ],
   "source": [
    "#Acá se verifica que las columnas de heridos y fallecidos estén en formato numérico y entero.\n",
    "\n",
    "integer_columns = df_accidentes.select_dtypes(include=[int]).columns\n",
    "text_columns = df_accidentes.select_dtypes(include=[object]).columns\n",
    "date_columns = df_accidentes.select_dtypes(include=['datetime64']).columns\n",
    "float_columns = df_accidentes.select_dtypes(include=[float]).columns\n",
    "\n",
    "integer_columns, text_columns, date_columns,float_columns"
   ]
  },
  {
   "cell_type": "code",
   "execution_count": 115,
   "id": "562b7bc7-5082-4e46-8d3b-46e124ab1135",
   "metadata": {},
   "outputs": [
    {
     "data": {
      "text/html": [
       "<div>\n",
       "<style scoped>\n",
       "    .dataframe tbody tr th:only-of-type {\n",
       "        vertical-align: middle;\n",
       "    }\n",
       "\n",
       "    .dataframe tbody tr th {\n",
       "        vertical-align: top;\n",
       "    }\n",
       "\n",
       "    .dataframe thead th {\n",
       "        text-align: right;\n",
       "    }\n",
       "</style>\n",
       "<table border=\"1\" class=\"dataframe\">\n",
       "  <thead>\n",
       "    <tr style=\"text-align: right;\">\n",
       "      <th></th>\n",
       "      <th>FECHA</th>\n",
       "      <th>HORA</th>\n",
       "      <th>DEPARTAMENTO</th>\n",
       "      <th>CODIGO_VÍA</th>\n",
       "      <th>KILOMETRO</th>\n",
       "      <th>MODALIDAD</th>\n",
       "      <th>FALLECIDOS</th>\n",
       "      <th>HERIDOS</th>\n",
       "    </tr>\n",
       "  </thead>\n",
       "  <tbody>\n",
       "    <tr>\n",
       "      <th>0</th>\n",
       "      <td>20200101</td>\n",
       "      <td>05:40</td>\n",
       "      <td>LIMA</td>\n",
       "      <td>PE-1S</td>\n",
       "      <td>24</td>\n",
       "      <td>DESPISTE</td>\n",
       "      <td>0</td>\n",
       "      <td>0</td>\n",
       "    </tr>\n",
       "    <tr>\n",
       "      <th>1</th>\n",
       "      <td>20200101</td>\n",
       "      <td>16:30</td>\n",
       "      <td>CAJAMARCA</td>\n",
       "      <td>PE-3N</td>\n",
       "      <td>74</td>\n",
       "      <td>DESPISTE</td>\n",
       "      <td>0</td>\n",
       "      <td>0</td>\n",
       "    </tr>\n",
       "    <tr>\n",
       "      <th>2</th>\n",
       "      <td>20200101</td>\n",
       "      <td>07:45</td>\n",
       "      <td>PASCO</td>\n",
       "      <td>PE-3N</td>\n",
       "      <td>103</td>\n",
       "      <td>DESPISTE</td>\n",
       "      <td>0</td>\n",
       "      <td>1</td>\n",
       "    </tr>\n",
       "    <tr>\n",
       "      <th>3</th>\n",
       "      <td>20200101</td>\n",
       "      <td>18:30</td>\n",
       "      <td>CAJAMARCA</td>\n",
       "      <td>PE-08</td>\n",
       "      <td>111</td>\n",
       "      <td>DESPISTE</td>\n",
       "      <td>0</td>\n",
       "      <td>2</td>\n",
       "    </tr>\n",
       "    <tr>\n",
       "      <th>4</th>\n",
       "      <td>20200101</td>\n",
       "      <td>18:40</td>\n",
       "      <td>LIMA</td>\n",
       "      <td>PE-1N</td>\n",
       "      <td>174</td>\n",
       "      <td>DESPISTE</td>\n",
       "      <td>0</td>\n",
       "      <td>5</td>\n",
       "    </tr>\n",
       "    <tr>\n",
       "      <th>...</th>\n",
       "      <td>...</td>\n",
       "      <td>...</td>\n",
       "      <td>...</td>\n",
       "      <td>...</td>\n",
       "      <td>...</td>\n",
       "      <td>...</td>\n",
       "      <td>...</td>\n",
       "      <td>...</td>\n",
       "    </tr>\n",
       "    <tr>\n",
       "      <th>8150</th>\n",
       "      <td>20210930</td>\n",
       "      <td>01:30</td>\n",
       "      <td>ANCASH</td>\n",
       "      <td>PE-1N</td>\n",
       "      <td>348</td>\n",
       "      <td>CHOQUE</td>\n",
       "      <td>0</td>\n",
       "      <td>0</td>\n",
       "    </tr>\n",
       "    <tr>\n",
       "      <th>8151</th>\n",
       "      <td>20210930</td>\n",
       "      <td>04:00</td>\n",
       "      <td>MADRE DE DIOS</td>\n",
       "      <td>PE-30C</td>\n",
       "      <td>417</td>\n",
       "      <td>CHOQUE</td>\n",
       "      <td>0</td>\n",
       "      <td>0</td>\n",
       "    </tr>\n",
       "    <tr>\n",
       "      <th>8152</th>\n",
       "      <td>20210930</td>\n",
       "      <td>15:10</td>\n",
       "      <td>LA LIBERTAD</td>\n",
       "      <td>PE-1N</td>\n",
       "      <td>627</td>\n",
       "      <td>CHOQUE</td>\n",
       "      <td>0</td>\n",
       "      <td>2</td>\n",
       "    </tr>\n",
       "    <tr>\n",
       "      <th>8153</th>\n",
       "      <td>20210930</td>\n",
       "      <td>02:50</td>\n",
       "      <td>LAMBAYEQUE</td>\n",
       "      <td>PE-1N</td>\n",
       "      <td>758</td>\n",
       "      <td>DESPISTE</td>\n",
       "      <td>0</td>\n",
       "      <td>0</td>\n",
       "    </tr>\n",
       "    <tr>\n",
       "      <th>8154</th>\n",
       "      <td>20210930</td>\n",
       "      <td>18:47</td>\n",
       "      <td>PUNO</td>\n",
       "      <td>PE-3S</td>\n",
       "      <td>1296</td>\n",
       "      <td>CHOQUE</td>\n",
       "      <td>1</td>\n",
       "      <td>0</td>\n",
       "    </tr>\n",
       "  </tbody>\n",
       "</table>\n",
       "<p>8155 rows × 8 columns</p>\n",
       "</div>"
      ],
      "text/plain": [
       "         FECHA   HORA   DEPARTAMENTO CODIGO_VÍA KILOMETRO MODALIDAD  \\\n",
       "0     20200101  05:40           LIMA      PE-1S        24  DESPISTE   \n",
       "1     20200101  16:30      CAJAMARCA      PE-3N        74  DESPISTE   \n",
       "2     20200101  07:45          PASCO      PE-3N       103  DESPISTE   \n",
       "3     20200101  18:30      CAJAMARCA      PE-08       111  DESPISTE   \n",
       "4     20200101  18:40           LIMA      PE-1N       174  DESPISTE   \n",
       "...        ...    ...            ...        ...       ...       ...   \n",
       "8150  20210930  01:30         ANCASH      PE-1N       348    CHOQUE   \n",
       "8151  20210930  04:00  MADRE DE DIOS     PE-30C       417    CHOQUE   \n",
       "8152  20210930  15:10    LA LIBERTAD      PE-1N       627    CHOQUE   \n",
       "8153  20210930  02:50     LAMBAYEQUE      PE-1N       758  DESPISTE   \n",
       "8154  20210930  18:47           PUNO      PE-3S      1296    CHOQUE   \n",
       "\n",
       "      FALLECIDOS  HERIDOS  \n",
       "0              0        0  \n",
       "1              0        0  \n",
       "2              0        1  \n",
       "3              0        2  \n",
       "4              0        5  \n",
       "...          ...      ...  \n",
       "8150           0        0  \n",
       "8151           0        0  \n",
       "8152           0        2  \n",
       "8153           0        0  \n",
       "8154           1        0  \n",
       "\n",
       "[8155 rows x 8 columns]"
      ]
     },
     "execution_count": 115,
     "metadata": {},
     "output_type": "execute_result"
    }
   ],
   "source": [
    "#Se elimina la columna fecha corte\n",
    "#La solución la tomé de este código para el drop: https://pandas.pydata.org/docs/reference/api/pandas.DataFrame.drop.html\n",
    "\n",
    "df_accidentes=df_accidentes.drop(columns=['FECHA_CORTE'])\n",
    "df_accidentes"
   ]
  },
  {
   "cell_type": "code",
   "execution_count": 116,
   "id": "5a3a687d-f8aa-46b2-8b33-0ee6da38325d",
   "metadata": {},
   "outputs": [
    {
     "data": {
      "text/plain": [
       "Int64Index([ 282,  309,  311,  317,  326,  328,  331,  340,  342,  352,  359,\n",
       "             360,  455,  459,  462,  530,  565,  574,  588,  606,  607,  624,\n",
       "             871,  902, 1227, 1348, 1743, 2252, 3891, 4483, 4525, 4654, 4745,\n",
       "            4892, 4994, 5008, 5049, 5093, 5107, 5127, 5155, 5553, 5683, 5877,\n",
       "            5892, 6205],\n",
       "           dtype='int64')"
      ]
     },
     "execution_count": 116,
     "metadata": {},
     "output_type": "execute_result"
    }
   ],
   "source": [
    "# Buscar el número de fila donde hay \"N.I.\" en CODIGO_VÍA.(Para eliminar filas en las que la vía tiene un valor de 'n.i'\n",
    "index_via=df_accidentes[df_accidentes['CODIGO_VÍA']=='N.I.'].index\n",
    "index_via"
   ]
  },
  {
   "cell_type": "code",
   "execution_count": 117,
   "id": "355701bd-48c8-489d-9014-89587627b206",
   "metadata": {},
   "outputs": [
    {
     "data": {
      "text/html": [
       "<div>\n",
       "<style scoped>\n",
       "    .dataframe tbody tr th:only-of-type {\n",
       "        vertical-align: middle;\n",
       "    }\n",
       "\n",
       "    .dataframe tbody tr th {\n",
       "        vertical-align: top;\n",
       "    }\n",
       "\n",
       "    .dataframe thead th {\n",
       "        text-align: right;\n",
       "    }\n",
       "</style>\n",
       "<table border=\"1\" class=\"dataframe\">\n",
       "  <thead>\n",
       "    <tr style=\"text-align: right;\">\n",
       "      <th></th>\n",
       "      <th>FECHA</th>\n",
       "      <th>HORA</th>\n",
       "      <th>DEPARTAMENTO</th>\n",
       "      <th>CODIGO_VÍA</th>\n",
       "      <th>KILOMETRO</th>\n",
       "      <th>MODALIDAD</th>\n",
       "      <th>FALLECIDOS</th>\n",
       "      <th>HERIDOS</th>\n",
       "    </tr>\n",
       "  </thead>\n",
       "  <tbody>\n",
       "    <tr>\n",
       "      <th>0</th>\n",
       "      <td>20200101</td>\n",
       "      <td>05:40</td>\n",
       "      <td>LIMA</td>\n",
       "      <td>PE-1S</td>\n",
       "      <td>24</td>\n",
       "      <td>DESPISTE</td>\n",
       "      <td>0</td>\n",
       "      <td>0</td>\n",
       "    </tr>\n",
       "    <tr>\n",
       "      <th>1</th>\n",
       "      <td>20200101</td>\n",
       "      <td>16:30</td>\n",
       "      <td>CAJAMARCA</td>\n",
       "      <td>PE-3N</td>\n",
       "      <td>74</td>\n",
       "      <td>DESPISTE</td>\n",
       "      <td>0</td>\n",
       "      <td>0</td>\n",
       "    </tr>\n",
       "    <tr>\n",
       "      <th>2</th>\n",
       "      <td>20200101</td>\n",
       "      <td>07:45</td>\n",
       "      <td>PASCO</td>\n",
       "      <td>PE-3N</td>\n",
       "      <td>103</td>\n",
       "      <td>DESPISTE</td>\n",
       "      <td>0</td>\n",
       "      <td>1</td>\n",
       "    </tr>\n",
       "    <tr>\n",
       "      <th>3</th>\n",
       "      <td>20200101</td>\n",
       "      <td>18:30</td>\n",
       "      <td>CAJAMARCA</td>\n",
       "      <td>PE-08</td>\n",
       "      <td>111</td>\n",
       "      <td>DESPISTE</td>\n",
       "      <td>0</td>\n",
       "      <td>2</td>\n",
       "    </tr>\n",
       "    <tr>\n",
       "      <th>4</th>\n",
       "      <td>20200101</td>\n",
       "      <td>18:40</td>\n",
       "      <td>LIMA</td>\n",
       "      <td>PE-1N</td>\n",
       "      <td>174</td>\n",
       "      <td>DESPISTE</td>\n",
       "      <td>0</td>\n",
       "      <td>5</td>\n",
       "    </tr>\n",
       "    <tr>\n",
       "      <th>...</th>\n",
       "      <td>...</td>\n",
       "      <td>...</td>\n",
       "      <td>...</td>\n",
       "      <td>...</td>\n",
       "      <td>...</td>\n",
       "      <td>...</td>\n",
       "      <td>...</td>\n",
       "      <td>...</td>\n",
       "    </tr>\n",
       "    <tr>\n",
       "      <th>8150</th>\n",
       "      <td>20210930</td>\n",
       "      <td>01:30</td>\n",
       "      <td>ANCASH</td>\n",
       "      <td>PE-1N</td>\n",
       "      <td>348</td>\n",
       "      <td>CHOQUE</td>\n",
       "      <td>0</td>\n",
       "      <td>0</td>\n",
       "    </tr>\n",
       "    <tr>\n",
       "      <th>8151</th>\n",
       "      <td>20210930</td>\n",
       "      <td>04:00</td>\n",
       "      <td>MADRE DE DIOS</td>\n",
       "      <td>PE-30C</td>\n",
       "      <td>417</td>\n",
       "      <td>CHOQUE</td>\n",
       "      <td>0</td>\n",
       "      <td>0</td>\n",
       "    </tr>\n",
       "    <tr>\n",
       "      <th>8152</th>\n",
       "      <td>20210930</td>\n",
       "      <td>15:10</td>\n",
       "      <td>LA LIBERTAD</td>\n",
       "      <td>PE-1N</td>\n",
       "      <td>627</td>\n",
       "      <td>CHOQUE</td>\n",
       "      <td>0</td>\n",
       "      <td>2</td>\n",
       "    </tr>\n",
       "    <tr>\n",
       "      <th>8153</th>\n",
       "      <td>20210930</td>\n",
       "      <td>02:50</td>\n",
       "      <td>LAMBAYEQUE</td>\n",
       "      <td>PE-1N</td>\n",
       "      <td>758</td>\n",
       "      <td>DESPISTE</td>\n",
       "      <td>0</td>\n",
       "      <td>0</td>\n",
       "    </tr>\n",
       "    <tr>\n",
       "      <th>8154</th>\n",
       "      <td>20210930</td>\n",
       "      <td>18:47</td>\n",
       "      <td>PUNO</td>\n",
       "      <td>PE-3S</td>\n",
       "      <td>1296</td>\n",
       "      <td>CHOQUE</td>\n",
       "      <td>1</td>\n",
       "      <td>0</td>\n",
       "    </tr>\n",
       "  </tbody>\n",
       "</table>\n",
       "<p>8109 rows × 8 columns</p>\n",
       "</div>"
      ],
      "text/plain": [
       "         FECHA   HORA   DEPARTAMENTO CODIGO_VÍA KILOMETRO MODALIDAD  \\\n",
       "0     20200101  05:40           LIMA      PE-1S        24  DESPISTE   \n",
       "1     20200101  16:30      CAJAMARCA      PE-3N        74  DESPISTE   \n",
       "2     20200101  07:45          PASCO      PE-3N       103  DESPISTE   \n",
       "3     20200101  18:30      CAJAMARCA      PE-08       111  DESPISTE   \n",
       "4     20200101  18:40           LIMA      PE-1N       174  DESPISTE   \n",
       "...        ...    ...            ...        ...       ...       ...   \n",
       "8150  20210930  01:30         ANCASH      PE-1N       348    CHOQUE   \n",
       "8151  20210930  04:00  MADRE DE DIOS     PE-30C       417    CHOQUE   \n",
       "8152  20210930  15:10    LA LIBERTAD      PE-1N       627    CHOQUE   \n",
       "8153  20210930  02:50     LAMBAYEQUE      PE-1N       758  DESPISTE   \n",
       "8154  20210930  18:47           PUNO      PE-3S      1296    CHOQUE   \n",
       "\n",
       "      FALLECIDOS  HERIDOS  \n",
       "0              0        0  \n",
       "1              0        0  \n",
       "2              0        1  \n",
       "3              0        2  \n",
       "4              0        5  \n",
       "...          ...      ...  \n",
       "8150           0        0  \n",
       "8151           0        0  \n",
       "8152           0        2  \n",
       "8153           0        0  \n",
       "8154           1        0  \n",
       "\n",
       "[8109 rows x 8 columns]"
      ]
     },
     "execution_count": 117,
     "metadata": {},
     "output_type": "execute_result"
    }
   ],
   "source": [
    "df_accidentes2=df_accidentes.drop(index_via)\n",
    "df_accidentes2"
   ]
  },
  {
   "cell_type": "code",
   "execution_count": 118,
   "id": "cafb880b-b935-4eca-90b3-4e8593dce621",
   "metadata": {},
   "outputs": [
    {
     "name": "stdout",
     "output_type": "stream",
     "text": [
      "         FECHA   HORA   DEPARTAMENTO CODIGO_VÍA KILOMETRO MODALIDAD  \\\n",
      "0     20200101  05:40           LIMA      PE-1S        24  DESPISTE   \n",
      "1     20200101  16:30      CAJAMARCA      PE-3N        74  DESPISTE   \n",
      "2     20200101  07:45          PASCO      PE-3N       103  DESPISTE   \n",
      "3     20200101  18:30      CAJAMARCA      PE-08       111  DESPISTE   \n",
      "4     20200101  18:40           LIMA      PE-1N       174  DESPISTE   \n",
      "...        ...    ...            ...        ...       ...       ...   \n",
      "8150  20210930  01:30         ANCASH      PE-1N       348    CHOQUE   \n",
      "8151  20210930  04:00  MADRE DE DIOS     PE-30C       417    CHOQUE   \n",
      "8152  20210930  15:10    LA LIBERTAD      PE-1N       627    CHOQUE   \n",
      "8153  20210930  02:50     LAMBAYEQUE      PE-1N       758  DESPISTE   \n",
      "8154  20210930  18:47           PUNO      PE-3S      1296    CHOQUE   \n",
      "\n",
      "      FALLECIDOS  HERIDOS    FECHA_OK  \n",
      "0              0        0  01/01/2020  \n",
      "1              0        0  01/01/2020  \n",
      "2              0        1  01/01/2020  \n",
      "3              0        2  01/01/2020  \n",
      "4              0        5  01/01/2020  \n",
      "...          ...      ...         ...  \n",
      "8150           0        0  09/30/2021  \n",
      "8151           0        0  09/30/2021  \n",
      "8152           0        2  09/30/2021  \n",
      "8153           0        0  09/30/2021  \n",
      "8154           1        0  09/30/2021  \n",
      "\n",
      "[8109 rows x 9 columns]\n"
     ]
    }
   ],
   "source": [
    "# Para cambiar a formato fecha a la columna FECHA\n",
    "\n",
    "#Esto no funciona porque el formato es YYYYMMDD df_accidentes2['FECHA'] = pd.to_datetime(df_accidentes['FECHA'], format='%d/%m/%Y')\n",
    "\n",
    "#La solución se extrajo de: https://stackoverflow.com/questions/43133605/convert-integer-yyyymmdd-to-date-format-mm-dd-yyyy-in-python\n",
    "\n",
    "df_accidentes2[['FECHA_OK']] = df_accidentes2[['FECHA']].applymap(str).applymap(lambda s: \"{}/{}/{}\".format(s[4:6],s[6:], s[0:4]))\n",
    "print (df_accidentes2)"
   ]
  },
  {
   "cell_type": "code",
   "execution_count": 119,
   "id": "3de202c5-0776-4bd5-90e9-19e5c55a92a3",
   "metadata": {},
   "outputs": [
    {
     "data": {
      "text/plain": [
       "DESPISTE     3829\n",
       "CHOQUE       3623\n",
       "ATROPELLO     361\n",
       "ESPECIAL      186\n",
       "VOLCADURA     128\n",
       "N.I.           28\n",
       "Name: MODALIDAD, dtype: int64"
      ]
     },
     "execution_count": 119,
     "metadata": {},
     "output_type": "execute_result"
    }
   ],
   "source": [
    "modalidad_count=df_accidentes['MODALIDAD'].value_counts()\n",
    "modalidad_count"
   ]
  },
  {
   "cell_type": "code",
   "execution_count": 120,
   "id": "844838f3-a604-46e4-bc99-69e25ba7a8d8",
   "metadata": {},
   "outputs": [
    {
     "data": {
      "text/plain": [
       "<AxesSubplot:>"
      ]
     },
     "execution_count": 120,
     "metadata": {},
     "output_type": "execute_result"
    },
    {
     "data": {
      "image/png": "[encoded data removed]",
      "text/plain": [
       "<Figure size 432x288 with 1 Axes>"
      ]
     },
     "metadata": {
      "needs_background": "light"
     },
     "output_type": "display_data"
    }
   ],
   "source": [
    "#Para ordenar de mayor a menor se usa sort_values en lugar de sort_index\n",
    "#Se sacó de acá: https://pandas.pydata.org/docs/reference/api/pandas.DataFrame.sort_values.html#pandas.DataFrame.sort_values\n",
    "\n",
    "modalidad_count.sort_values(ascending=False).plot(kind='bar')"
   ]
  },
  {
   "cell_type": "code",
   "execution_count": 121,
   "id": "77dbcad3-2c7a-4baa-888a-0cbc432c60d4",
   "metadata": {},
   "outputs": [
    {
     "data": {
      "text/plain": [
       "LIMA             1558\n",
       "AREQUIPA          795\n",
       "JUNIN             715\n",
       "ANCASH            602\n",
       "PUNO              529\n",
       "ICA               377\n",
       "CAJAMARCA         350\n",
       "CUSCO             346\n",
       "LAMBAYEQUE        343\n",
       "LA LIBERTAD       329\n",
       "PIURA             327\n",
       "SAN MARTIN        274\n",
       "APURIMAC          202\n",
       "MADRE DE DIOS     191\n",
       "HUANUCO           174\n",
       "AYACUCHO          168\n",
       "MOQUEGUA          155\n",
       "UCAYALI           154\n",
       "AMAZONAS          152\n",
       "TACNA             151\n",
       "LORETO             82\n",
       "PASCO              77\n",
       "HUANCAVELICA       62\n",
       "TUMBES             25\n",
       "N.I.                7\n",
       "CALLAO              6\n",
       "Arequipa            2\n",
       "Puno                1\n",
       "Cusco               1\n",
       "Name: DEPARTAMENTO, dtype: int64"
      ]
     },
     "execution_count": 121,
     "metadata": {},
     "output_type": "execute_result"
    }
   ],
   "source": [
    "departamento_count=df_accidentes['DEPARTAMENTO'].value_counts()\n",
    "departamento_count"
   ]
  },
  {
   "cell_type": "code",
   "execution_count": 122,
   "id": "3b800779-1c5a-47cc-82b2-2460a1562a66",
   "metadata": {},
   "outputs": [
    {
     "data": {
      "text/plain": [
       "<AxesSubplot:>"
      ]
     },
     "execution_count": 122,
     "metadata": {},
     "output_type": "execute_result"
    },
    {
     "data": {
      "image/png": "[encoded data removed]",
      "text/plain": [
       "<Figure size 432x288 with 1 Axes>"
      ]
     },
     "metadata": {
      "needs_background": "light"
     },
     "output_type": "display_data"
    }
   ],
   "source": [
    "departamento_count.sort_values(ascending=False).plot(kind='bar')"
   ]
  },
  {
   "cell_type": "code",
   "execution_count": 140,
   "id": "2df5a6e0-a3fb-4684-97b5-ff16aa720683",
   "metadata": {
    "tags": []
   },
   "outputs": [
    {
     "data": {
      "text/html": [
       "<div>\n",
       "<style scoped>\n",
       "    .dataframe tbody tr th:only-of-type {\n",
       "        vertical-align: middle;\n",
       "    }\n",
       "\n",
       "    .dataframe tbody tr th {\n",
       "        vertical-align: top;\n",
       "    }\n",
       "\n",
       "    .dataframe thead th {\n",
       "        text-align: right;\n",
       "    }\n",
       "</style>\n",
       "<table border=\"1\" class=\"dataframe\">\n",
       "  <thead>\n",
       "    <tr style=\"text-align: right;\">\n",
       "      <th></th>\n",
       "      <th>DEPARTAMENTO</th>\n",
       "      <th>MODALIDAD</th>\n",
       "      <th>conteo</th>\n",
       "    </tr>\n",
       "  </thead>\n",
       "  <tbody>\n",
       "    <tr>\n",
       "      <th>0</th>\n",
       "      <td>AMAZONAS</td>\n",
       "      <td>ATROPELLO</td>\n",
       "      <td>3</td>\n",
       "    </tr>\n",
       "    <tr>\n",
       "      <th>1</th>\n",
       "      <td>AMAZONAS</td>\n",
       "      <td>CHOQUE</td>\n",
       "      <td>67</td>\n",
       "    </tr>\n",
       "    <tr>\n",
       "      <th>2</th>\n",
       "      <td>AMAZONAS</td>\n",
       "      <td>DESPISTE</td>\n",
       "      <td>76</td>\n",
       "    </tr>\n",
       "    <tr>\n",
       "      <th>3</th>\n",
       "      <td>AMAZONAS</td>\n",
       "      <td>ESPECIAL</td>\n",
       "      <td>2</td>\n",
       "    </tr>\n",
       "    <tr>\n",
       "      <th>4</th>\n",
       "      <td>AMAZONAS</td>\n",
       "      <td>N.I.</td>\n",
       "      <td>1</td>\n",
       "    </tr>\n",
       "    <tr>\n",
       "      <th>...</th>\n",
       "      <td>...</td>\n",
       "      <td>...</td>\n",
       "      <td>...</td>\n",
       "    </tr>\n",
       "    <tr>\n",
       "      <th>129</th>\n",
       "      <td>TUMBES</td>\n",
       "      <td>ESPECIAL</td>\n",
       "      <td>1</td>\n",
       "    </tr>\n",
       "    <tr>\n",
       "      <th>130</th>\n",
       "      <td>UCAYALI</td>\n",
       "      <td>ATROPELLO</td>\n",
       "      <td>9</td>\n",
       "    </tr>\n",
       "    <tr>\n",
       "      <th>131</th>\n",
       "      <td>UCAYALI</td>\n",
       "      <td>CHOQUE</td>\n",
       "      <td>93</td>\n",
       "    </tr>\n",
       "    <tr>\n",
       "      <th>132</th>\n",
       "      <td>UCAYALI</td>\n",
       "      <td>DESPISTE</td>\n",
       "      <td>49</td>\n",
       "    </tr>\n",
       "    <tr>\n",
       "      <th>133</th>\n",
       "      <td>UCAYALI</td>\n",
       "      <td>ESPECIAL</td>\n",
       "      <td>3</td>\n",
       "    </tr>\n",
       "  </tbody>\n",
       "</table>\n",
       "<p>134 rows × 3 columns</p>\n",
       "</div>"
      ],
      "text/plain": [
       "    DEPARTAMENTO  MODALIDAD  conteo\n",
       "0       AMAZONAS  ATROPELLO       3\n",
       "1       AMAZONAS     CHOQUE      67\n",
       "2       AMAZONAS   DESPISTE      76\n",
       "3       AMAZONAS   ESPECIAL       2\n",
       "4       AMAZONAS       N.I.       1\n",
       "..           ...        ...     ...\n",
       "129       TUMBES   ESPECIAL       1\n",
       "130      UCAYALI  ATROPELLO       9\n",
       "131      UCAYALI     CHOQUE      93\n",
       "132      UCAYALI   DESPISTE      49\n",
       "133      UCAYALI   ESPECIAL       3\n",
       "\n",
       "[134 rows x 3 columns]"
      ]
     },
     "execution_count": 140,
     "metadata": {},
     "output_type": "execute_result"
    }
   ],
   "source": [
    "#Conteo de accidentes por departamento y modalidad\n",
    "conteo_región_x_modalidad=(df_accidentes2[['DEPARTAMENTO', 'MODALIDAD']]\n",
    "                         .groupby(['DEPARTAMENTO', 'MODALIDAD']).size()\n",
    "                         .reset_index()\n",
    "                         .rename({0: 'conteo'}, axis=1))\n",
    "conteo_región_x_modalidad\n",
    "\n",
    "#Acá lo ideal sería ordenar la tabla de mayor a menor según el conteo por departamento, aunque eso implica agregar una columna con\n",
    "# los totales por departamento.\n",
    "# Revisar esta solución: https://stackoverflow.com/questions/66105989/seaborn-catplot-sort-by-count-column"
   ]
  },
  {
   "cell_type": "code",
   "execution_count": 141,
   "id": "9479a88e-7f48-4983-abd5-d742984536c6",
   "metadata": {},
   "outputs": [
    {
     "data": {
      "image/png": "[encoded data removed]",
      "text/plain": [
       "<Figure size 818.25x360 with 1 Axes>"
      ]
     },
     "metadata": {
      "needs_background": "light"
     },
     "output_type": "display_data"
    }
   ],
   "source": [
    "# Gráfica de barras de cantidad de accidentes por departamento y modalidad.\n",
    "# Si se ordena la tabla anterior, se puede luego ordenar la gráfica que sale de esto.\n",
    "g = sns.catplot(\n",
    "    data=conteo_región_x_modalidad, kind=\"bar\",\n",
    "    x=\"DEPARTAMENTO\", y=\"conteo\", hue=\"MODALIDAD\",\n",
    "    height=5,aspect=2\n",
    "\n",
    ")\n",
    "g.set_xticklabels(rotation=90)\n",
    "plt.show()"
   ]
  },
  {
   "cell_type": "code",
   "execution_count": null,
   "id": "449f0b16-a1a9-4934-bce3-533d4eeecf46",
   "metadata": {},
   "outputs": [],
   "source": [
    "#Hasta acá me doy que cuenta que aún se pueden hacer las siguientes correcciones o análisis:\n",
    "\n",
    "- Hay nombres de los departamentose que se repiten en minúsculas\n",
    "- Aún se pueden eliminar las filas que contienen \"n.i.\" para modalidad \n",
    "## Preguntas de investigación:\n",
    "# 1. ¿Cuál es la región con mayor índice de accidentes fatales?\n",
    "# 2. "
   ]
  }
 ],
 "metadata": {
  "kernelspec": {
   "display_name": "Python 3 (ipykernel)",
   "language": "python",
   "name": "python3"
  },
  "language_info": {
   "codemirror_mode": {
    "name": "ipython",
    "version": 3
   },
   "file_extension": ".py",
   "mimetype": "text/x-python",
   "name": "python",
   "nbconvert_exporter": "python",
   "pygments_lexer": "ipython3",
   "version": "3.10.0"
  }
 },
 "nbformat": 4,
 "nbformat_minor": 5
}
