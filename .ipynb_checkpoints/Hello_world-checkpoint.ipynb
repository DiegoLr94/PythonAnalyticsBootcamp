{
 "cells": [
  {
   "cell_type": "code",
   "execution_count": 1,
   "id": "90af815b",
   "metadata": {},
   "outputs": [
    {
     "name": "stdout",
     "output_type": "stream",
     "text": [
      "Hola Hackspace\n"
     ]
    }
   ],
   "source": [
    "print (\"Hola Hackspace\")"
   ]
  },
  {
   "cell_type": "code",
   "execution_count": 5,
   "id": "3a5e87a2-ffb4-4525-a2b6-52c9a87418cc",
   "metadata": {},
   "outputs": [],
   "source": [
    "import pandas as pd"
   ]
  },
  {
   "cell_type": "code",
   "execution_count": 7,
   "id": "bbb48601-3e01-4186-8e69-4af612043b49",
   "metadata": {},
   "outputs": [],
   "source": [
    "tabla1=pd.DataFrame([10,15,12])"
   ]
  },
  {
   "cell_type": "code",
   "execution_count": 8,
   "id": "2858ffe0-53b6-4069-84fb-b5d3b18a7be5",
   "metadata": {},
   "outputs": [
    {
     "name": "stdout",
     "output_type": "stream",
     "text": [
      "    0\n",
      "0  10\n",
      "1  15\n",
      "2  12\n"
     ]
    }
   ],
   "source": [
    "print (tabla1)"
   ]
  }
 ],
 "metadata": {
  "kernelspec": {
   "display_name": "Python 3 (ipykernel)",
   "language": "python",
   "name": "python3"
  },
  "language_info": {
   "codemirror_mode": {
    "name": "ipython",
    "version": 3
   },
   "file_extension": ".py",
   "mimetype": "text/x-python",
   "name": "python",
   "nbconvert_exporter": "python",
   "pygments_lexer": "ipython3",
   "version": "3.10.0"
  }
 },
 "nbformat": 4,
 "nbformat_minor": 5
}
